{
  "nbformat": 4,
  "nbformat_minor": 0,
  "metadata": {
    "colab": {
      "name": "Lab1.ipynb",
      "provenance": [],
      "toc_visible": true,
      "authorship_tag": "ABX9TyPtyx3aH+NPEzwqj3gh+vbY",
      "include_colab_link": true
    },
    "kernelspec": {
      "name": "python3",
      "display_name": "Python 3"
    }
  },
  "cells": [
    {
      "cell_type": "markdown",
      "metadata": {
        "id": "view-in-github",
        "colab_type": "text"
      },
      "source": [
        "<a href=\"https://colab.research.google.com/github/Azb5895/Lab1/blob/master/Lab1.ipynb\" target=\"_parent\"><img src=\"https://colab.research.google.com/assets/colab-badge.svg\" alt=\"Open In Colab\"/></a>"
      ]
    },
    {
      "cell_type": "markdown",
      "metadata": {
        "id": "koPuEcF_cFuU",
        "colab_type": "text"
      },
      "source": [
        "# Snowfall in State College "
      ]
    },
    {
      "cell_type": "markdown",
      "metadata": {
        "id": "fv9QhtREcQaJ",
        "colab_type": "text"
      },
      "source": [
        "# Outline"
      ]
    },
    {
      "cell_type": "markdown",
      "metadata": {
        "id": "AExi9xqsd_Z7",
        "colab_type": "text"
      },
      "source": [
        "The purpose of this project is to examine snowfall in State College over the course of three years in the months February and March. These two months were chosen from the data set because they experince the highest amount of snowfall on average. This will allow State College to better anticipate the level of snow they will get in during these months in the future. "
      ]
    },
    {
      "cell_type": "markdown",
      "metadata": {
        "id": "thptz7GbfleO",
        "colab_type": "text"
      },
      "source": [
        "# Sketch"
      ]
    },
    {
      "cell_type": "markdown",
      "metadata": {
        "id": "c8sTjySkiLDH",
        "colab_type": "text"
      },
      "source": [
        "![alt text](https://raw.githubusercontent.com/Azb5895/Lab1/master/image/labgraph/snow%20level%20graph.png)"
      ]
    },
    {
      "cell_type": "markdown",
      "metadata": {
        "id": "q4P9TvDtid-M",
        "colab_type": "text"
      },
      "source": [
        "# Conclusion"
      ]
    },
    {
      "cell_type": "markdown",
      "metadata": {
        "id": "czBFFSrvigWo",
        "colab_type": "text"
      },
      "source": [
        "We can now see general trends of snowfall in State College with the graph. It appears that in all three years the rate of snowfall was recorded in February the amount is fairly similar. However in the month of March there is a large spike in snowfall in 2017 before it drops back down in 2018 and 2019. "
      ]
    }
  ]
}